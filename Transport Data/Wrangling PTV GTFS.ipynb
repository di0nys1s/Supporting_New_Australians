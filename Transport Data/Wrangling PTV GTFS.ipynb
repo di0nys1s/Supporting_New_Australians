{
 "cells": [
  {
   "cell_type": "markdown",
   "metadata": {},
   "source": [
    "# Public Transports In Great Melbourne\n",
    "#### Aim result is a table including columns: stop_id, stop_name, type"
   ]
  },
  {
   "cell_type": "code",
   "execution_count": 1,
   "metadata": {},
   "outputs": [],
   "source": [
    "import pandas as pd\n",
    "import numpy as np\n",
    "import shapefile"
   ]
  },
  {
   "cell_type": "markdown",
   "metadata": {},
   "source": [
    "### 1.Routes and transport types"
   ]
  },
  {
   "cell_type": "code",
   "execution_count": 6,
   "metadata": {},
   "outputs": [],
   "source": [
    "routes = pd.read_csv('gtfs/routes.txt',sep = ',')"
   ]
  },
  {
   "cell_type": "code",
   "execution_count": 8,
   "metadata": {},
   "outputs": [],
   "source": [
    "routes = routes.loc[(routes.route_type == 0) | (routes.route_type == 2)|(routes.route_type == 3),['route_id','route_type','route_short_name']]"
   ]
  },
  {
   "cell_type": "code",
   "execution_count": 10,
   "metadata": {},
   "outputs": [
    {
     "data": {
      "text/html": [
       "<div>\n",
       "<style scoped>\n",
       "    .dataframe tbody tr th:only-of-type {\n",
       "        vertical-align: middle;\n",
       "    }\n",
       "\n",
       "    .dataframe tbody tr th {\n",
       "        vertical-align: top;\n",
       "    }\n",
       "\n",
       "    .dataframe thead th {\n",
       "        text-align: right;\n",
       "    }\n",
       "</style>\n",
       "<table border=\"1\" class=\"dataframe\">\n",
       "  <thead>\n",
       "    <tr style=\"text-align: right;\">\n",
       "      <th></th>\n",
       "      <th>route_id</th>\n",
       "      <th>route_type</th>\n",
       "      <th>route_short_name</th>\n",
       "    </tr>\n",
       "  </thead>\n",
       "  <tbody>\n",
       "    <tr>\n",
       "      <th>0</th>\n",
       "      <td>1-V23-D-mjp-1</td>\n",
       "      <td>2</td>\n",
       "      <td>NaN</td>\n",
       "    </tr>\n",
       "    <tr>\n",
       "      <th>1</th>\n",
       "      <td>1-V23-E-mjp-1</td>\n",
       "      <td>2</td>\n",
       "      <td>NaN</td>\n",
       "    </tr>\n",
       "    <tr>\n",
       "      <th>2</th>\n",
       "      <td>1-V23-F-mjp-1</td>\n",
       "      <td>2</td>\n",
       "      <td>NaN</td>\n",
       "    </tr>\n",
       "    <tr>\n",
       "      <th>3</th>\n",
       "      <td>1-V23-G-mjp-1</td>\n",
       "      <td>2</td>\n",
       "      <td>NaN</td>\n",
       "    </tr>\n",
       "    <tr>\n",
       "      <th>4</th>\n",
       "      <td>1-V40-D-mjp-1</td>\n",
       "      <td>2</td>\n",
       "      <td>NaN</td>\n",
       "    </tr>\n",
       "    <tr>\n",
       "      <th>5</th>\n",
       "      <td>1-V40-E-mjp-1</td>\n",
       "      <td>2</td>\n",
       "      <td>NaN</td>\n",
       "    </tr>\n",
       "    <tr>\n",
       "      <th>6</th>\n",
       "      <td>1-V40-F-mjp-1</td>\n",
       "      <td>2</td>\n",
       "      <td>NaN</td>\n",
       "    </tr>\n",
       "    <tr>\n",
       "      <th>7</th>\n",
       "      <td>1-V40-G-mjp-1</td>\n",
       "      <td>2</td>\n",
       "      <td>NaN</td>\n",
       "    </tr>\n",
       "    <tr>\n",
       "      <th>8</th>\n",
       "      <td>1-V51-D-mjp-1</td>\n",
       "      <td>2</td>\n",
       "      <td>NaN</td>\n",
       "    </tr>\n",
       "    <tr>\n",
       "      <th>9</th>\n",
       "      <td>1-V45-D-mjp-1</td>\n",
       "      <td>2</td>\n",
       "      <td>NaN</td>\n",
       "    </tr>\n",
       "    <tr>\n",
       "      <th>10</th>\n",
       "      <td>1-V45-E-mjp-1</td>\n",
       "      <td>2</td>\n",
       "      <td>NaN</td>\n",
       "    </tr>\n",
       "    <tr>\n",
       "      <th>11</th>\n",
       "      <td>1-V45-F-mjp-1</td>\n",
       "      <td>2</td>\n",
       "      <td>NaN</td>\n",
       "    </tr>\n",
       "    <tr>\n",
       "      <th>12</th>\n",
       "      <td>1-V45-G-mjp-1</td>\n",
       "      <td>2</td>\n",
       "      <td>NaN</td>\n",
       "    </tr>\n",
       "    <tr>\n",
       "      <th>13</th>\n",
       "      <td>1-V48-D-mjp-1</td>\n",
       "      <td>2</td>\n",
       "      <td>NaN</td>\n",
       "    </tr>\n",
       "    <tr>\n",
       "      <th>14</th>\n",
       "      <td>1-V48-E-mjp-1</td>\n",
       "      <td>2</td>\n",
       "      <td>NaN</td>\n",
       "    </tr>\n",
       "    <tr>\n",
       "      <th>15</th>\n",
       "      <td>1-V48-F-mjp-1</td>\n",
       "      <td>2</td>\n",
       "      <td>NaN</td>\n",
       "    </tr>\n",
       "    <tr>\n",
       "      <th>16</th>\n",
       "      <td>1-V48-G-mjp-1</td>\n",
       "      <td>2</td>\n",
       "      <td>NaN</td>\n",
       "    </tr>\n",
       "    <tr>\n",
       "      <th>17</th>\n",
       "      <td>1-V51-E-mjp-1</td>\n",
       "      <td>2</td>\n",
       "      <td>NaN</td>\n",
       "    </tr>\n",
       "    <tr>\n",
       "      <th>18</th>\n",
       "      <td>1-V51-F-mjp-1</td>\n",
       "      <td>2</td>\n",
       "      <td>NaN</td>\n",
       "    </tr>\n",
       "    <tr>\n",
       "      <th>19</th>\n",
       "      <td>1-V51-G-mjp-1</td>\n",
       "      <td>2</td>\n",
       "      <td>NaN</td>\n",
       "    </tr>\n",
       "    <tr>\n",
       "      <th>20</th>\n",
       "      <td>1-Vov-D-mjp-1</td>\n",
       "      <td>2</td>\n",
       "      <td>NaN</td>\n",
       "    </tr>\n",
       "    <tr>\n",
       "      <th>21</th>\n",
       "      <td>1-Vov-E-mjp-1</td>\n",
       "      <td>2</td>\n",
       "      <td>NaN</td>\n",
       "    </tr>\n",
       "    <tr>\n",
       "      <th>22</th>\n",
       "      <td>1-Vov-F-mjp-1</td>\n",
       "      <td>2</td>\n",
       "      <td>NaN</td>\n",
       "    </tr>\n",
       "    <tr>\n",
       "      <th>23</th>\n",
       "      <td>1-Vov-G-mjp-1</td>\n",
       "      <td>2</td>\n",
       "      <td>NaN</td>\n",
       "    </tr>\n",
       "    <tr>\n",
       "      <th>24</th>\n",
       "      <td>1-my1-D-mjp-1</td>\n",
       "      <td>2</td>\n",
       "      <td>NaN</td>\n",
       "    </tr>\n",
       "    <tr>\n",
       "      <th>25</th>\n",
       "      <td>1-my1-E-mjp-1</td>\n",
       "      <td>2</td>\n",
       "      <td>NaN</td>\n",
       "    </tr>\n",
       "    <tr>\n",
       "      <th>26</th>\n",
       "      <td>1-my1-F-mjp-1</td>\n",
       "      <td>2</td>\n",
       "      <td>NaN</td>\n",
       "    </tr>\n",
       "    <tr>\n",
       "      <th>27</th>\n",
       "      <td>1-my1-G-mjp-1</td>\n",
       "      <td>2</td>\n",
       "      <td>NaN</td>\n",
       "    </tr>\n",
       "    <tr>\n",
       "      <th>28</th>\n",
       "      <td>1-Ech-D-mjp-1</td>\n",
       "      <td>2</td>\n",
       "      <td>NaN</td>\n",
       "    </tr>\n",
       "    <tr>\n",
       "      <th>29</th>\n",
       "      <td>1-Ech-E-mjp-1</td>\n",
       "      <td>2</td>\n",
       "      <td>NaN</td>\n",
       "    </tr>\n",
       "    <tr>\n",
       "      <th>30</th>\n",
       "      <td>1-Ech-F-mjp-1</td>\n",
       "      <td>2</td>\n",
       "      <td>NaN</td>\n",
       "    </tr>\n",
       "    <tr>\n",
       "      <th>31</th>\n",
       "      <td>1-Ech-G-mjp-1</td>\n",
       "      <td>2</td>\n",
       "      <td>NaN</td>\n",
       "    </tr>\n",
       "    <tr>\n",
       "      <th>32</th>\n",
       "      <td>1-Sht-D-mjp-1</td>\n",
       "      <td>2</td>\n",
       "      <td>NaN</td>\n",
       "    </tr>\n",
       "    <tr>\n",
       "      <th>33</th>\n",
       "      <td>1-Sht-E-mjp-1</td>\n",
       "      <td>2</td>\n",
       "      <td>NaN</td>\n",
       "    </tr>\n",
       "    <tr>\n",
       "      <th>34</th>\n",
       "      <td>1-Sht-F-mjp-1</td>\n",
       "      <td>2</td>\n",
       "      <td>NaN</td>\n",
       "    </tr>\n",
       "    <tr>\n",
       "      <th>35</th>\n",
       "      <td>1-Sht-G-mjp-1</td>\n",
       "      <td>2</td>\n",
       "      <td>NaN</td>\n",
       "    </tr>\n",
       "    <tr>\n",
       "      <th>36</th>\n",
       "      <td>1-V01-D-mjp-1</td>\n",
       "      <td>2</td>\n",
       "      <td>NaN</td>\n",
       "    </tr>\n",
       "    <tr>\n",
       "      <th>37</th>\n",
       "      <td>1-V01-E-mjp-1</td>\n",
       "      <td>2</td>\n",
       "      <td>NaN</td>\n",
       "    </tr>\n",
       "    <tr>\n",
       "      <th>38</th>\n",
       "      <td>1-V01-F-mjp-1</td>\n",
       "      <td>2</td>\n",
       "      <td>NaN</td>\n",
       "    </tr>\n",
       "    <tr>\n",
       "      <th>39</th>\n",
       "      <td>1-V01-G-mjp-1</td>\n",
       "      <td>2</td>\n",
       "      <td>NaN</td>\n",
       "    </tr>\n",
       "    <tr>\n",
       "      <th>40</th>\n",
       "      <td>1-V08-D-mjp-1</td>\n",
       "      <td>2</td>\n",
       "      <td>NaN</td>\n",
       "    </tr>\n",
       "    <tr>\n",
       "      <th>41</th>\n",
       "      <td>1-V04-D-mjp-1</td>\n",
       "      <td>2</td>\n",
       "      <td>NaN</td>\n",
       "    </tr>\n",
       "    <tr>\n",
       "      <th>42</th>\n",
       "      <td>1-V04-E-mjp-1</td>\n",
       "      <td>2</td>\n",
       "      <td>NaN</td>\n",
       "    </tr>\n",
       "    <tr>\n",
       "      <th>43</th>\n",
       "      <td>1-V04-F-mjp-1</td>\n",
       "      <td>2</td>\n",
       "      <td>NaN</td>\n",
       "    </tr>\n",
       "    <tr>\n",
       "      <th>44</th>\n",
       "      <td>1-V04-G-mjp-1</td>\n",
       "      <td>2</td>\n",
       "      <td>NaN</td>\n",
       "    </tr>\n",
       "    <tr>\n",
       "      <th>45</th>\n",
       "      <td>1-V05-D-mjp-1</td>\n",
       "      <td>2</td>\n",
       "      <td>NaN</td>\n",
       "    </tr>\n",
       "    <tr>\n",
       "      <th>46</th>\n",
       "      <td>1-V05-E-mjp-1</td>\n",
       "      <td>2</td>\n",
       "      <td>NaN</td>\n",
       "    </tr>\n",
       "    <tr>\n",
       "      <th>47</th>\n",
       "      <td>1-V05-F-mjp-1</td>\n",
       "      <td>2</td>\n",
       "      <td>NaN</td>\n",
       "    </tr>\n",
       "    <tr>\n",
       "      <th>48</th>\n",
       "      <td>1-V05-G-mjp-1</td>\n",
       "      <td>2</td>\n",
       "      <td>NaN</td>\n",
       "    </tr>\n",
       "    <tr>\n",
       "      <th>49</th>\n",
       "      <td>1-V08-E-mjp-1</td>\n",
       "      <td>2</td>\n",
       "      <td>NaN</td>\n",
       "    </tr>\n",
       "  </tbody>\n",
       "</table>\n",
       "</div>"
      ],
      "text/plain": [
       "         route_id  route_type route_short_name\n",
       "0   1-V23-D-mjp-1           2              NaN\n",
       "1   1-V23-E-mjp-1           2              NaN\n",
       "2   1-V23-F-mjp-1           2              NaN\n",
       "3   1-V23-G-mjp-1           2              NaN\n",
       "4   1-V40-D-mjp-1           2              NaN\n",
       "5   1-V40-E-mjp-1           2              NaN\n",
       "6   1-V40-F-mjp-1           2              NaN\n",
       "7   1-V40-G-mjp-1           2              NaN\n",
       "8   1-V51-D-mjp-1           2              NaN\n",
       "9   1-V45-D-mjp-1           2              NaN\n",
       "10  1-V45-E-mjp-1           2              NaN\n",
       "11  1-V45-F-mjp-1           2              NaN\n",
       "12  1-V45-G-mjp-1           2              NaN\n",
       "13  1-V48-D-mjp-1           2              NaN\n",
       "14  1-V48-E-mjp-1           2              NaN\n",
       "15  1-V48-F-mjp-1           2              NaN\n",
       "16  1-V48-G-mjp-1           2              NaN\n",
       "17  1-V51-E-mjp-1           2              NaN\n",
       "18  1-V51-F-mjp-1           2              NaN\n",
       "19  1-V51-G-mjp-1           2              NaN\n",
       "20  1-Vov-D-mjp-1           2              NaN\n",
       "21  1-Vov-E-mjp-1           2              NaN\n",
       "22  1-Vov-F-mjp-1           2              NaN\n",
       "23  1-Vov-G-mjp-1           2              NaN\n",
       "24  1-my1-D-mjp-1           2              NaN\n",
       "25  1-my1-E-mjp-1           2              NaN\n",
       "26  1-my1-F-mjp-1           2              NaN\n",
       "27  1-my1-G-mjp-1           2              NaN\n",
       "28  1-Ech-D-mjp-1           2              NaN\n",
       "29  1-Ech-E-mjp-1           2              NaN\n",
       "30  1-Ech-F-mjp-1           2              NaN\n",
       "31  1-Ech-G-mjp-1           2              NaN\n",
       "32  1-Sht-D-mjp-1           2              NaN\n",
       "33  1-Sht-E-mjp-1           2              NaN\n",
       "34  1-Sht-F-mjp-1           2              NaN\n",
       "35  1-Sht-G-mjp-1           2              NaN\n",
       "36  1-V01-D-mjp-1           2              NaN\n",
       "37  1-V01-E-mjp-1           2              NaN\n",
       "38  1-V01-F-mjp-1           2              NaN\n",
       "39  1-V01-G-mjp-1           2              NaN\n",
       "40  1-V08-D-mjp-1           2              NaN\n",
       "41  1-V04-D-mjp-1           2              NaN\n",
       "42  1-V04-E-mjp-1           2              NaN\n",
       "43  1-V04-F-mjp-1           2              NaN\n",
       "44  1-V04-G-mjp-1           2              NaN\n",
       "45  1-V05-D-mjp-1           2              NaN\n",
       "46  1-V05-E-mjp-1           2              NaN\n",
       "47  1-V05-F-mjp-1           2              NaN\n",
       "48  1-V05-G-mjp-1           2              NaN\n",
       "49  1-V08-E-mjp-1           2              NaN"
      ]
     },
     "execution_count": 10,
     "metadata": {},
     "output_type": "execute_result"
    }
   ],
   "source": [
    "routes.head(50)"
   ]
  },
  {
   "cell_type": "code",
   "execution_count": null,
   "metadata": {},
   "outputs": [],
   "source": []
  },
  {
   "cell_type": "code",
   "execution_count": 11,
   "metadata": {},
   "outputs": [
    {
     "data": {
      "text/plain": [
       "24"
      ]
     },
     "execution_count": 11,
     "metadata": {},
     "output_type": "execute_result"
    }
   ],
   "source": [
    "# Tram\n",
    "len(routes[routes['route_type'] == 0])"
   ]
  },
  {
   "cell_type": "code",
   "execution_count": 12,
   "metadata": {},
   "outputs": [
    {
     "data": {
      "text/plain": [
       "133"
      ]
     },
     "execution_count": 12,
     "metadata": {},
     "output_type": "execute_result"
    }
   ],
   "source": [
    "# Train\n",
    "len(routes[routes['route_type'] == 2])"
   ]
  },
  {
   "cell_type": "code",
   "execution_count": 13,
   "metadata": {},
   "outputs": [
    {
     "data": {
      "text/plain": [
       "925"
      ]
     },
     "execution_count": 13,
     "metadata": {},
     "output_type": "execute_result"
    }
   ],
   "source": [
    "# Bus\n",
    "len(routes[routes['route_type'] == 3])"
   ]
  },
  {
   "cell_type": "code",
   "execution_count": null,
   "metadata": {},
   "outputs": [],
   "source": []
  },
  {
   "cell_type": "code",
   "execution_count": 14,
   "metadata": {},
   "outputs": [],
   "source": [
    "# route_type 0,2,3 are tram, train, bus"
   ]
  },
  {
   "cell_type": "code",
   "execution_count": 15,
   "metadata": {},
   "outputs": [
    {
     "data": {
      "text/html": [
       "<div>\n",
       "<style scoped>\n",
       "    .dataframe tbody tr th:only-of-type {\n",
       "        vertical-align: middle;\n",
       "    }\n",
       "\n",
       "    .dataframe tbody tr th {\n",
       "        vertical-align: top;\n",
       "    }\n",
       "\n",
       "    .dataframe thead th {\n",
       "        text-align: right;\n",
       "    }\n",
       "</style>\n",
       "<table border=\"1\" class=\"dataframe\">\n",
       "  <thead>\n",
       "    <tr style=\"text-align: right;\">\n",
       "      <th></th>\n",
       "      <th>route_id</th>\n",
       "      <th>route_type</th>\n",
       "      <th>route_short_name</th>\n",
       "    </tr>\n",
       "  </thead>\n",
       "  <tbody>\n",
       "    <tr>\n",
       "      <th>0</th>\n",
       "      <td>1-V23-D-mjp-1</td>\n",
       "      <td>2</td>\n",
       "      <td>NaN</td>\n",
       "    </tr>\n",
       "    <tr>\n",
       "      <th>1</th>\n",
       "      <td>1-V23-E-mjp-1</td>\n",
       "      <td>2</td>\n",
       "      <td>NaN</td>\n",
       "    </tr>\n",
       "    <tr>\n",
       "      <th>2</th>\n",
       "      <td>1-V23-F-mjp-1</td>\n",
       "      <td>2</td>\n",
       "      <td>NaN</td>\n",
       "    </tr>\n",
       "    <tr>\n",
       "      <th>3</th>\n",
       "      <td>1-V23-G-mjp-1</td>\n",
       "      <td>2</td>\n",
       "      <td>NaN</td>\n",
       "    </tr>\n",
       "  </tbody>\n",
       "</table>\n",
       "</div>"
      ],
      "text/plain": [
       "        route_id  route_type route_short_name\n",
       "0  1-V23-D-mjp-1           2              NaN\n",
       "1  1-V23-E-mjp-1           2              NaN\n",
       "2  1-V23-F-mjp-1           2              NaN\n",
       "3  1-V23-G-mjp-1           2              NaN"
      ]
     },
     "execution_count": 15,
     "metadata": {},
     "output_type": "execute_result"
    }
   ],
   "source": [
    "routes.head(4)\n",
    "#routes.shape"
   ]
  },
  {
   "cell_type": "code",
   "execution_count": 16,
   "metadata": {},
   "outputs": [],
   "source": [
    "# stop times"
   ]
  },
  {
   "cell_type": "code",
   "execution_count": 17,
   "metadata": {},
   "outputs": [],
   "source": [
    "stpt = pd.read_csv('gtfs/stop_times.txt',sep = ',')"
   ]
  },
  {
   "cell_type": "code",
   "execution_count": 18,
   "metadata": {},
   "outputs": [],
   "source": [
    "stpt = stpt.loc[:,['trip_id','stop_id']]"
   ]
  },
  {
   "cell_type": "code",
   "execution_count": null,
   "metadata": {},
   "outputs": [],
   "source": []
  },
  {
   "cell_type": "code",
   "execution_count": null,
   "metadata": {},
   "outputs": [],
   "source": []
  },
  {
   "cell_type": "code",
   "execution_count": 19,
   "metadata": {},
   "outputs": [],
   "source": [
    "#trips"
   ]
  },
  {
   "cell_type": "code",
   "execution_count": 20,
   "metadata": {},
   "outputs": [],
   "source": [
    "trips = pd.read_csv('gtfs/trips.txt',sep = ',')"
   ]
  },
  {
   "cell_type": "code",
   "execution_count": 21,
   "metadata": {},
   "outputs": [],
   "source": [
    "trips = trips.loc[:,['trip_id','route_id']]"
   ]
  },
  {
   "cell_type": "code",
   "execution_count": 22,
   "metadata": {},
   "outputs": [
    {
     "data": {
      "text/html": [
       "<div>\n",
       "<style scoped>\n",
       "    .dataframe tbody tr th:only-of-type {\n",
       "        vertical-align: middle;\n",
       "    }\n",
       "\n",
       "    .dataframe tbody tr th {\n",
       "        vertical-align: top;\n",
       "    }\n",
       "\n",
       "    .dataframe thead th {\n",
       "        text-align: right;\n",
       "    }\n",
       "</style>\n",
       "<table border=\"1\" class=\"dataframe\">\n",
       "  <thead>\n",
       "    <tr style=\"text-align: right;\">\n",
       "      <th></th>\n",
       "      <th>trip_id</th>\n",
       "      <th>route_id</th>\n",
       "    </tr>\n",
       "  </thead>\n",
       "  <tbody>\n",
       "    <tr>\n",
       "      <th>0</th>\n",
       "      <td>8675.T0.1-vPK-F-mjp-1.1.H</td>\n",
       "      <td>1-vPK-F-mjp-1</td>\n",
       "    </tr>\n",
       "    <tr>\n",
       "      <th>1</th>\n",
       "      <td>8674.T0.1-vPK-F-mjp-1.1.H</td>\n",
       "      <td>1-vPK-F-mjp-1</td>\n",
       "    </tr>\n",
       "    <tr>\n",
       "      <th>2</th>\n",
       "      <td>8676.T0.1-vPK-F-mjp-1.1.H</td>\n",
       "      <td>1-vPK-F-mjp-1</td>\n",
       "    </tr>\n",
       "  </tbody>\n",
       "</table>\n",
       "</div>"
      ],
      "text/plain": [
       "                     trip_id       route_id\n",
       "0  8675.T0.1-vPK-F-mjp-1.1.H  1-vPK-F-mjp-1\n",
       "1  8674.T0.1-vPK-F-mjp-1.1.H  1-vPK-F-mjp-1\n",
       "2  8676.T0.1-vPK-F-mjp-1.1.H  1-vPK-F-mjp-1"
      ]
     },
     "execution_count": 22,
     "metadata": {},
     "output_type": "execute_result"
    }
   ],
   "source": [
    "trips.head(3)"
   ]
  },
  {
   "cell_type": "code",
   "execution_count": 23,
   "metadata": {},
   "outputs": [
    {
     "data": {
      "text/plain": [
       "str"
      ]
     },
     "execution_count": 23,
     "metadata": {},
     "output_type": "execute_result"
    }
   ],
   "source": [
    "type(trips.trip_id[0])"
   ]
  },
  {
   "cell_type": "code",
   "execution_count": 24,
   "metadata": {},
   "outputs": [
    {
     "data": {
      "text/plain": [
       "str"
      ]
     },
     "execution_count": 24,
     "metadata": {},
     "output_type": "execute_result"
    }
   ],
   "source": [
    "type(stpt.trip_id[0])"
   ]
  },
  {
   "cell_type": "code",
   "execution_count": 25,
   "metadata": {},
   "outputs": [],
   "source": [
    "# merge stop time and trips to get stop_id belong to route_id"
   ]
  },
  {
   "cell_type": "code",
   "execution_count": 26,
   "metadata": {},
   "outputs": [],
   "source": [
    "#trips_stpt = pd.concat([trips, stpt], axis=1)"
   ]
  },
  {
   "cell_type": "code",
   "execution_count": 27,
   "metadata": {},
   "outputs": [],
   "source": [
    "trips_stpt = pd.merge(stpt, trips, how = 'right', on = 'trip_id')"
   ]
  },
  {
   "cell_type": "code",
   "execution_count": 30,
   "metadata": {},
   "outputs": [
    {
     "data": {
      "text/html": [
       "<div>\n",
       "<style scoped>\n",
       "    .dataframe tbody tr th:only-of-type {\n",
       "        vertical-align: middle;\n",
       "    }\n",
       "\n",
       "    .dataframe tbody tr th {\n",
       "        vertical-align: top;\n",
       "    }\n",
       "\n",
       "    .dataframe thead th {\n",
       "        text-align: right;\n",
       "    }\n",
       "</style>\n",
       "<table border=\"1\" class=\"dataframe\">\n",
       "  <thead>\n",
       "    <tr style=\"text-align: right;\">\n",
       "      <th></th>\n",
       "      <th>trip_id</th>\n",
       "      <th>stop_id</th>\n",
       "      <th>route_id</th>\n",
       "    </tr>\n",
       "  </thead>\n",
       "  <tbody>\n",
       "    <tr>\n",
       "      <th>0</th>\n",
       "      <td>8675.T0.1-vPK-F-mjp-1.1.H</td>\n",
       "      <td>22250</td>\n",
       "      <td>1-vPK-F-mjp-1</td>\n",
       "    </tr>\n",
       "    <tr>\n",
       "      <th>1</th>\n",
       "      <td>8675.T0.1-vPK-F-mjp-1.1.H</td>\n",
       "      <td>22248</td>\n",
       "      <td>1-vPK-F-mjp-1</td>\n",
       "    </tr>\n",
       "    <tr>\n",
       "      <th>2</th>\n",
       "      <td>8675.T0.1-vPK-F-mjp-1.1.H</td>\n",
       "      <td>20043</td>\n",
       "      <td>1-vPK-F-mjp-1</td>\n",
       "    </tr>\n",
       "    <tr>\n",
       "      <th>3</th>\n",
       "      <td>8675.T0.1-vPK-F-mjp-1.1.H</td>\n",
       "      <td>22238</td>\n",
       "      <td>1-vPK-F-mjp-1</td>\n",
       "    </tr>\n",
       "    <tr>\n",
       "      <th>4</th>\n",
       "      <td>8666.UJ.1-vPK-F-mjp-1.1.H</td>\n",
       "      <td>22250</td>\n",
       "      <td>1-vPK-F-mjp-1</td>\n",
       "    </tr>\n",
       "  </tbody>\n",
       "</table>\n",
       "</div>"
      ],
      "text/plain": [
       "                     trip_id  stop_id       route_id\n",
       "0  8675.T0.1-vPK-F-mjp-1.1.H    22250  1-vPK-F-mjp-1\n",
       "1  8675.T0.1-vPK-F-mjp-1.1.H    22248  1-vPK-F-mjp-1\n",
       "2  8675.T0.1-vPK-F-mjp-1.1.H    20043  1-vPK-F-mjp-1\n",
       "3  8675.T0.1-vPK-F-mjp-1.1.H    22238  1-vPK-F-mjp-1\n",
       "4  8666.UJ.1-vPK-F-mjp-1.1.H    22250  1-vPK-F-mjp-1"
      ]
     },
     "execution_count": 30,
     "metadata": {},
     "output_type": "execute_result"
    }
   ],
   "source": [
    "trips_stpt.head()"
   ]
  },
  {
   "cell_type": "code",
   "execution_count": 31,
   "metadata": {},
   "outputs": [],
   "source": [
    "trips_stpt = trips_stpt.dropna()"
   ]
  },
  {
   "cell_type": "code",
   "execution_count": 32,
   "metadata": {},
   "outputs": [],
   "source": [
    "# drop trip_id"
   ]
  },
  {
   "cell_type": "code",
   "execution_count": 33,
   "metadata": {},
   "outputs": [],
   "source": [
    "trips_stpt = trips_stpt.loc[:,['stop_id','route_id']]"
   ]
  },
  {
   "cell_type": "code",
   "execution_count": null,
   "metadata": {},
   "outputs": [],
   "source": []
  },
  {
   "cell_type": "code",
   "execution_count": 34,
   "metadata": {},
   "outputs": [
    {
     "data": {
      "text/plain": [
       "(3743031, 2)"
      ]
     },
     "execution_count": 34,
     "metadata": {},
     "output_type": "execute_result"
    }
   ],
   "source": [
    "trips_stpt.shape"
   ]
  },
  {
   "cell_type": "code",
   "execution_count": 35,
   "metadata": {},
   "outputs": [
    {
     "data": {
      "text/html": [
       "<div>\n",
       "<style scoped>\n",
       "    .dataframe tbody tr th:only-of-type {\n",
       "        vertical-align: middle;\n",
       "    }\n",
       "\n",
       "    .dataframe tbody tr th {\n",
       "        vertical-align: top;\n",
       "    }\n",
       "\n",
       "    .dataframe thead th {\n",
       "        text-align: right;\n",
       "    }\n",
       "</style>\n",
       "<table border=\"1\" class=\"dataframe\">\n",
       "  <thead>\n",
       "    <tr style=\"text-align: right;\">\n",
       "      <th></th>\n",
       "      <th>stop_id</th>\n",
       "      <th>route_id</th>\n",
       "    </tr>\n",
       "  </thead>\n",
       "  <tbody>\n",
       "    <tr>\n",
       "      <th>0</th>\n",
       "      <td>22250</td>\n",
       "      <td>1-vPK-F-mjp-1</td>\n",
       "    </tr>\n",
       "    <tr>\n",
       "      <th>1</th>\n",
       "      <td>22248</td>\n",
       "      <td>1-vPK-F-mjp-1</td>\n",
       "    </tr>\n",
       "    <tr>\n",
       "      <th>2</th>\n",
       "      <td>20043</td>\n",
       "      <td>1-vPK-F-mjp-1</td>\n",
       "    </tr>\n",
       "    <tr>\n",
       "      <th>3</th>\n",
       "      <td>22238</td>\n",
       "      <td>1-vPK-F-mjp-1</td>\n",
       "    </tr>\n",
       "    <tr>\n",
       "      <th>4</th>\n",
       "      <td>22250</td>\n",
       "      <td>1-vPK-F-mjp-1</td>\n",
       "    </tr>\n",
       "  </tbody>\n",
       "</table>\n",
       "</div>"
      ],
      "text/plain": [
       "   stop_id       route_id\n",
       "0    22250  1-vPK-F-mjp-1\n",
       "1    22248  1-vPK-F-mjp-1\n",
       "2    20043  1-vPK-F-mjp-1\n",
       "3    22238  1-vPK-F-mjp-1\n",
       "4    22250  1-vPK-F-mjp-1"
      ]
     },
     "execution_count": 35,
     "metadata": {},
     "output_type": "execute_result"
    }
   ],
   "source": [
    "trips_stpt.head()"
   ]
  },
  {
   "cell_type": "code",
   "execution_count": 36,
   "metadata": {},
   "outputs": [],
   "source": [
    "# keep only trip_id, stop_id and route_id columns"
   ]
  },
  {
   "cell_type": "code",
   "execution_count": 37,
   "metadata": {},
   "outputs": [],
   "source": [
    "trips_stpt = trips_stpt.loc[:,['stop_id' , 'route_id']].drop_duplicates()"
   ]
  },
  {
   "cell_type": "code",
   "execution_count": 38,
   "metadata": {},
   "outputs": [],
   "source": [
    "#trips_stpt.head(5)"
   ]
  },
  {
   "cell_type": "code",
   "execution_count": 39,
   "metadata": {},
   "outputs": [
    {
     "data": {
      "text/plain": [
       "(45431, 2)"
      ]
     },
     "execution_count": 39,
     "metadata": {},
     "output_type": "execute_result"
    }
   ],
   "source": [
    "trips_stpt.shape"
   ]
  },
  {
   "cell_type": "code",
   "execution_count": 40,
   "metadata": {},
   "outputs": [],
   "source": [
    "# merge routes and trips_stpt to get stops in each route"
   ]
  },
  {
   "cell_type": "code",
   "execution_count": 41,
   "metadata": {},
   "outputs": [],
   "source": [
    "stops_routes = pd.merge(trips_stpt, routes, how = 'left', on = 'route_id')"
   ]
  },
  {
   "cell_type": "code",
   "execution_count": null,
   "metadata": {},
   "outputs": [],
   "source": []
  },
  {
   "cell_type": "code",
   "execution_count": 42,
   "metadata": {},
   "outputs": [
    {
     "data": {
      "text/html": [
       "<div>\n",
       "<style scoped>\n",
       "    .dataframe tbody tr th:only-of-type {\n",
       "        vertical-align: middle;\n",
       "    }\n",
       "\n",
       "    .dataframe tbody tr th {\n",
       "        vertical-align: top;\n",
       "    }\n",
       "\n",
       "    .dataframe thead th {\n",
       "        text-align: right;\n",
       "    }\n",
       "</style>\n",
       "<table border=\"1\" class=\"dataframe\">\n",
       "  <thead>\n",
       "    <tr style=\"text-align: right;\">\n",
       "      <th></th>\n",
       "      <th>stop_id</th>\n",
       "      <th>route_id</th>\n",
       "      <th>route_type</th>\n",
       "      <th>route_short_name</th>\n",
       "    </tr>\n",
       "  </thead>\n",
       "  <tbody>\n",
       "    <tr>\n",
       "      <th>0</th>\n",
       "      <td>22250</td>\n",
       "      <td>1-vPK-F-mjp-1</td>\n",
       "      <td>2</td>\n",
       "      <td>Pakenham</td>\n",
       "    </tr>\n",
       "    <tr>\n",
       "      <th>1</th>\n",
       "      <td>22248</td>\n",
       "      <td>1-vPK-F-mjp-1</td>\n",
       "      <td>2</td>\n",
       "      <td>Pakenham</td>\n",
       "    </tr>\n",
       "    <tr>\n",
       "      <th>2</th>\n",
       "      <td>20043</td>\n",
       "      <td>1-vPK-F-mjp-1</td>\n",
       "      <td>2</td>\n",
       "      <td>Pakenham</td>\n",
       "    </tr>\n",
       "    <tr>\n",
       "      <th>3</th>\n",
       "      <td>22238</td>\n",
       "      <td>1-vPK-F-mjp-1</td>\n",
       "      <td>2</td>\n",
       "      <td>Pakenham</td>\n",
       "    </tr>\n",
       "    <tr>\n",
       "      <th>4</th>\n",
       "      <td>22250</td>\n",
       "      <td>1-vPK-G-mjp-1</td>\n",
       "      <td>2</td>\n",
       "      <td>Pakenham</td>\n",
       "    </tr>\n",
       "  </tbody>\n",
       "</table>\n",
       "</div>"
      ],
      "text/plain": [
       "   stop_id       route_id  route_type route_short_name\n",
       "0    22250  1-vPK-F-mjp-1           2         Pakenham\n",
       "1    22248  1-vPK-F-mjp-1           2         Pakenham\n",
       "2    20043  1-vPK-F-mjp-1           2         Pakenham\n",
       "3    22238  1-vPK-F-mjp-1           2         Pakenham\n",
       "4    22250  1-vPK-G-mjp-1           2         Pakenham"
      ]
     },
     "execution_count": 42,
     "metadata": {},
     "output_type": "execute_result"
    }
   ],
   "source": [
    "stops_routes.head()"
   ]
  },
  {
   "cell_type": "code",
   "execution_count": 43,
   "metadata": {},
   "outputs": [],
   "source": [
    "# drop no use columns\n",
    "stops_routes = stops_routes.drop(columns=['route_id'])"
   ]
  },
  {
   "cell_type": "code",
   "execution_count": 44,
   "metadata": {},
   "outputs": [],
   "source": [
    "stops_routes = stops_routes.drop_duplicates()"
   ]
  },
  {
   "cell_type": "code",
   "execution_count": 45,
   "metadata": {},
   "outputs": [],
   "source": [
    "stops_routes = stops_routes.dropna()"
   ]
  },
  {
   "cell_type": "code",
   "execution_count": 46,
   "metadata": {},
   "outputs": [
    {
     "data": {
      "text/plain": [
       "(36783, 3)"
      ]
     },
     "execution_count": 46,
     "metadata": {},
     "output_type": "execute_result"
    }
   ],
   "source": [
    "stops_routes.shape"
   ]
  },
  {
   "cell_type": "code",
   "execution_count": 47,
   "metadata": {},
   "outputs": [],
   "source": [
    "# stops with lat and lng"
   ]
  },
  {
   "cell_type": "code",
   "execution_count": 48,
   "metadata": {},
   "outputs": [],
   "source": [
    "stops = pd.read_csv('gtfs/stops.txt',sep = ',')"
   ]
  },
  {
   "cell_type": "code",
   "execution_count": 49,
   "metadata": {},
   "outputs": [
    {
     "data": {
      "text/html": [
       "<div>\n",
       "<style scoped>\n",
       "    .dataframe tbody tr th:only-of-type {\n",
       "        vertical-align: middle;\n",
       "    }\n",
       "\n",
       "    .dataframe tbody tr th {\n",
       "        vertical-align: top;\n",
       "    }\n",
       "\n",
       "    .dataframe thead th {\n",
       "        text-align: right;\n",
       "    }\n",
       "</style>\n",
       "<table border=\"1\" class=\"dataframe\">\n",
       "  <thead>\n",
       "    <tr style=\"text-align: right;\">\n",
       "      <th></th>\n",
       "      <th>stop_id</th>\n",
       "      <th>stop_name</th>\n",
       "      <th>stop_lat</th>\n",
       "      <th>stop_lon</th>\n",
       "    </tr>\n",
       "  </thead>\n",
       "  <tbody>\n",
       "    <tr>\n",
       "      <th>0</th>\n",
       "      <td>10001</td>\n",
       "      <td>Rex St/Taylors Rd (Kings Park)</td>\n",
       "      <td>-37.726975</td>\n",
       "      <td>144.776152</td>\n",
       "    </tr>\n",
       "    <tr>\n",
       "      <th>1</th>\n",
       "      <td>10002</td>\n",
       "      <td>Yuille St/Centenary Ave (Melton)</td>\n",
       "      <td>-37.676160</td>\n",
       "      <td>144.595789</td>\n",
       "    </tr>\n",
       "    <tr>\n",
       "      <th>2</th>\n",
       "      <td>10009</td>\n",
       "      <td>Gum Rd/Main Rd West (Albanvale)</td>\n",
       "      <td>-37.741497</td>\n",
       "      <td>144.775899</td>\n",
       "    </tr>\n",
       "    <tr>\n",
       "      <th>3</th>\n",
       "      <td>1000</td>\n",
       "      <td>Dole Ave/Cheddar Rd (Reservoir)</td>\n",
       "      <td>-37.700775</td>\n",
       "      <td>145.018951</td>\n",
       "    </tr>\n",
       "    <tr>\n",
       "      <th>4</th>\n",
       "      <td>10010</td>\n",
       "      <td>Kings Rd/Main Rd West (St Albans)</td>\n",
       "      <td>-37.741946</td>\n",
       "      <td>144.780085</td>\n",
       "    </tr>\n",
       "  </tbody>\n",
       "</table>\n",
       "</div>"
      ],
      "text/plain": [
       "   stop_id                          stop_name   stop_lat    stop_lon\n",
       "0    10001     Rex St/Taylors Rd (Kings Park) -37.726975  144.776152\n",
       "1    10002   Yuille St/Centenary Ave (Melton) -37.676160  144.595789\n",
       "2    10009    Gum Rd/Main Rd West (Albanvale) -37.741497  144.775899\n",
       "3     1000    Dole Ave/Cheddar Rd (Reservoir) -37.700775  145.018951\n",
       "4    10010  Kings Rd/Main Rd West (St Albans) -37.741946  144.780085"
      ]
     },
     "execution_count": 49,
     "metadata": {},
     "output_type": "execute_result"
    }
   ],
   "source": [
    "stops.head()"
   ]
  },
  {
   "cell_type": "code",
   "execution_count": 50,
   "metadata": {},
   "outputs": [
    {
     "data": {
      "text/plain": [
       "(27336, 4)"
      ]
     },
     "execution_count": 50,
     "metadata": {},
     "output_type": "execute_result"
    }
   ],
   "source": [
    "stops.shape"
   ]
  },
  {
   "cell_type": "code",
   "execution_count": 51,
   "metadata": {},
   "outputs": [],
   "source": [
    "# merge stops and stops_routes to get final data"
   ]
  },
  {
   "cell_type": "code",
   "execution_count": 52,
   "metadata": {},
   "outputs": [],
   "source": [
    "PTV_df = pd.merge(stops, stops_routes, how = 'left', on = 'stop_id')"
   ]
  },
  {
   "cell_type": "code",
   "execution_count": 53,
   "metadata": {},
   "outputs": [],
   "source": [
    "PTV_df = PTV_df.drop(columns=['stop_id'])"
   ]
  },
  {
   "cell_type": "code",
   "execution_count": 54,
   "metadata": {},
   "outputs": [
    {
     "data": {
      "text/html": [
       "<div>\n",
       "<style scoped>\n",
       "    .dataframe tbody tr th:only-of-type {\n",
       "        vertical-align: middle;\n",
       "    }\n",
       "\n",
       "    .dataframe tbody tr th {\n",
       "        vertical-align: top;\n",
       "    }\n",
       "\n",
       "    .dataframe thead th {\n",
       "        text-align: right;\n",
       "    }\n",
       "</style>\n",
       "<table border=\"1\" class=\"dataframe\">\n",
       "  <thead>\n",
       "    <tr style=\"text-align: right;\">\n",
       "      <th></th>\n",
       "      <th>stop_name</th>\n",
       "      <th>stop_lat</th>\n",
       "      <th>stop_lon</th>\n",
       "      <th>route_type</th>\n",
       "      <th>route_short_name</th>\n",
       "    </tr>\n",
       "  </thead>\n",
       "  <tbody>\n",
       "    <tr>\n",
       "      <th>0</th>\n",
       "      <td>Rex St/Taylors Rd (Kings Park)</td>\n",
       "      <td>-37.726975</td>\n",
       "      <td>144.776152</td>\n",
       "      <td>3.0</td>\n",
       "      <td>418</td>\n",
       "    </tr>\n",
       "    <tr>\n",
       "      <th>1</th>\n",
       "      <td>Yuille St/Centenary Ave (Melton)</td>\n",
       "      <td>-37.676160</td>\n",
       "      <td>144.595789</td>\n",
       "      <td>3.0</td>\n",
       "      <td>458</td>\n",
       "    </tr>\n",
       "    <tr>\n",
       "      <th>2</th>\n",
       "      <td>Yuille St/Centenary Ave (Melton)</td>\n",
       "      <td>-37.676160</td>\n",
       "      <td>144.595789</td>\n",
       "      <td>3.0</td>\n",
       "      <td>943</td>\n",
       "    </tr>\n",
       "    <tr>\n",
       "      <th>3</th>\n",
       "      <td>Gum Rd/Main Rd West (Albanvale)</td>\n",
       "      <td>-37.741497</td>\n",
       "      <td>144.775899</td>\n",
       "      <td>3.0</td>\n",
       "      <td>424</td>\n",
       "    </tr>\n",
       "    <tr>\n",
       "      <th>4</th>\n",
       "      <td>Dole Ave/Cheddar Rd (Reservoir)</td>\n",
       "      <td>-37.700775</td>\n",
       "      <td>145.018951</td>\n",
       "      <td>3.0</td>\n",
       "      <td>556</td>\n",
       "    </tr>\n",
       "  </tbody>\n",
       "</table>\n",
       "</div>"
      ],
      "text/plain": [
       "                          stop_name   stop_lat    stop_lon  route_type  \\\n",
       "0    Rex St/Taylors Rd (Kings Park) -37.726975  144.776152         3.0   \n",
       "1  Yuille St/Centenary Ave (Melton) -37.676160  144.595789         3.0   \n",
       "2  Yuille St/Centenary Ave (Melton) -37.676160  144.595789         3.0   \n",
       "3   Gum Rd/Main Rd West (Albanvale) -37.741497  144.775899         3.0   \n",
       "4   Dole Ave/Cheddar Rd (Reservoir) -37.700775  145.018951         3.0   \n",
       "\n",
       "  route_short_name  \n",
       "0              418  \n",
       "1              458  \n",
       "2              943  \n",
       "3              424  \n",
       "4              556  "
      ]
     },
     "execution_count": 54,
     "metadata": {},
     "output_type": "execute_result"
    }
   ],
   "source": [
    "PTV_df.head()"
   ]
  },
  {
   "cell_type": "code",
   "execution_count": 55,
   "metadata": {},
   "outputs": [],
   "source": [
    "PTV_df = PTV_df.drop_duplicates()"
   ]
  },
  {
   "cell_type": "code",
   "execution_count": 56,
   "metadata": {},
   "outputs": [],
   "source": [
    "PTV_df = PTV_df.dropna()"
   ]
  },
  {
   "cell_type": "code",
   "execution_count": 57,
   "metadata": {},
   "outputs": [
    {
     "data": {
      "text/plain": [
       "(36778, 5)"
      ]
     },
     "execution_count": 57,
     "metadata": {},
     "output_type": "execute_result"
    }
   ],
   "source": [
    "PTV_df.shape"
   ]
  },
  {
   "cell_type": "code",
   "execution_count": 58,
   "metadata": {},
   "outputs": [],
   "source": [
    "# parse route_id to int"
   ]
  },
  {
   "cell_type": "code",
   "execution_count": 59,
   "metadata": {},
   "outputs": [],
   "source": [
    "PTV_df.route_type = PTV_df.route_type.astype(int)"
   ]
  },
  {
   "cell_type": "code",
   "execution_count": null,
   "metadata": {},
   "outputs": [],
   "source": []
  },
  {
   "cell_type": "code",
   "execution_count": 60,
   "metadata": {},
   "outputs": [
    {
     "data": {
      "text/plain": [
       "numpy.float64"
      ]
     },
     "execution_count": 60,
     "metadata": {},
     "output_type": "execute_result"
    }
   ],
   "source": [
    "type(PTV_df.stop_lon[1])"
   ]
  },
  {
   "cell_type": "code",
   "execution_count": 61,
   "metadata": {},
   "outputs": [
    {
     "data": {
      "text/plain": [
       "2343"
      ]
     },
     "execution_count": 61,
     "metadata": {},
     "output_type": "execute_result"
    }
   ],
   "source": [
    "# Tram\n",
    "len(PTV_df[PTV_df['route_type'] == 0])\n"
   ]
  },
  {
   "cell_type": "code",
   "execution_count": 62,
   "metadata": {},
   "outputs": [
    {
     "data": {
      "text/plain": [
       "381"
      ]
     },
     "execution_count": 62,
     "metadata": {},
     "output_type": "execute_result"
    }
   ],
   "source": [
    "# Train\n",
    "len(PTV_df[PTV_df['route_type'] == 2])"
   ]
  },
  {
   "cell_type": "code",
   "execution_count": null,
   "metadata": {},
   "outputs": [],
   "source": []
  },
  {
   "cell_type": "code",
   "execution_count": 63,
   "metadata": {},
   "outputs": [
    {
     "data": {
      "text/plain": [
       "34054"
      ]
     },
     "execution_count": 63,
     "metadata": {},
     "output_type": "execute_result"
    }
   ],
   "source": [
    "# Bus\n",
    "len(PTV_df[PTV_df['route_type'] == 3])"
   ]
  },
  {
   "cell_type": "markdown",
   "metadata": {},
   "source": [
    "### Suburbs and stops"
   ]
  },
  {
   "cell_type": "code",
   "execution_count": 64,
   "metadata": {},
   "outputs": [],
   "source": [
    "from shapely.geometry import Point, Polygon \n",
    "# from shapely package, use Polygon to create a polygon object with points, and use Point to create a object with the point data of each property "
   ]
  },
  {
   "cell_type": "code",
   "execution_count": 65,
   "metadata": {},
   "outputs": [],
   "source": [
    "# read points from shapefile"
   ]
  },
  {
   "cell_type": "code",
   "execution_count": 66,
   "metadata": {},
   "outputs": [],
   "source": [
    "sf = shapefile.Reader('./2016_SA2_shape/merged_all')\n",
    "recs = sf.records() # get suburb property of text \n",
    "shapes = sf.shapes() # get shape data, shape is a list of point for each suburb"
   ]
  },
  {
   "cell_type": "code",
   "execution_count": 67,
   "metadata": {},
   "outputs": [],
   "source": [
    "# suburb name\n",
    "suburb_name = [recs[i][0] for i in range(len(shapes))]\n",
    "# points\n",
    "points = [shapes[i].points for i in range(len(shapes))]\n",
    "# use zip function to combine suburb name and its points list\n",
    "suburb = list(zip(suburb_name,points))"
   ]
  },
  {
   "cell_type": "code",
   "execution_count": 68,
   "metadata": {},
   "outputs": [
    {
     "data": {
      "text/plain": [
       "'Hoppers Crossing'"
      ]
     },
     "execution_count": 68,
     "metadata": {},
     "output_type": "execute_result"
    }
   ],
   "source": [
    "recs[0][0]"
   ]
  },
  {
   "cell_type": "code",
   "execution_count": 69,
   "metadata": {},
   "outputs": [
    {
     "data": {
      "text/plain": [
       "276"
      ]
     },
     "execution_count": 69,
     "metadata": {},
     "output_type": "execute_result"
    }
   ],
   "source": [
    "len(suburb)"
   ]
  },
  {
   "cell_type": "code",
   "execution_count": 70,
   "metadata": {},
   "outputs": [],
   "source": [
    "# funtion to assign suburb name to each row of PTV_df\n",
    "\n",
    "def assgn_region (lat,lng): # pass a lat and lng of each property\n",
    "    point = Point(lng,lat) # create Point ob\n",
    "    s = 0 # set default\n",
    "    for x in suburb:\n",
    "        if Polygon(x[1]).contains(point): # use .contains() to reurn a boolean that checks the polygon area contains a point or not\n",
    "            s = x[0]\n",
    "            #print(x[0])\n",
    "    return s"
   ]
  },
  {
   "cell_type": "code",
   "execution_count": 71,
   "metadata": {},
   "outputs": [
    {
     "data": {
      "text/plain": [
       "'Malvern East'"
      ]
     },
     "execution_count": 71,
     "metadata": {},
     "output_type": "execute_result"
    }
   ],
   "source": [
    "assgn_region(-37.876930,145.069393)"
   ]
  },
  {
   "cell_type": "code",
   "execution_count": null,
   "metadata": {},
   "outputs": [],
   "source": []
  },
  {
   "cell_type": "code",
   "execution_count": 72,
   "metadata": {},
   "outputs": [],
   "source": [
    "PTV_df['suburb'] = PTV_df.apply(lambda x: assgn_region(x.stop_lat,x.stop_lon), axis = 1)"
   ]
  },
  {
   "cell_type": "code",
   "execution_count": 73,
   "metadata": {},
   "outputs": [],
   "source": [
    "PTV_df = PTV_df[PTV_df.suburb != 0]"
   ]
  },
  {
   "cell_type": "code",
   "execution_count": 74,
   "metadata": {},
   "outputs": [
    {
     "data": {
      "text/plain": [
       "372"
      ]
     },
     "execution_count": 74,
     "metadata": {},
     "output_type": "execute_result"
    }
   ],
   "source": [
    "# Train\n",
    "len(PTV_df[PTV_df['route_type'] == 2])"
   ]
  },
  {
   "cell_type": "code",
   "execution_count": 75,
   "metadata": {},
   "outputs": [
    {
     "data": {
      "text/plain": [
       "2343"
      ]
     },
     "execution_count": 75,
     "metadata": {},
     "output_type": "execute_result"
    }
   ],
   "source": [
    "# Tram\n",
    "len(PTV_df[PTV_df['route_type'] == 0])"
   ]
  },
  {
   "cell_type": "code",
   "execution_count": 76,
   "metadata": {},
   "outputs": [
    {
     "data": {
      "text/plain": [
       "26772"
      ]
     },
     "execution_count": 76,
     "metadata": {},
     "output_type": "execute_result"
    }
   ],
   "source": [
    "# Bus\n",
    "len(PTV_df[PTV_df['route_type'] == 3])"
   ]
  },
  {
   "cell_type": "code",
   "execution_count": 87,
   "metadata": {},
   "outputs": [
    {
     "data": {
      "text/html": [
       "<div>\n",
       "<style scoped>\n",
       "    .dataframe tbody tr th:only-of-type {\n",
       "        vertical-align: middle;\n",
       "    }\n",
       "\n",
       "    .dataframe tbody tr th {\n",
       "        vertical-align: top;\n",
       "    }\n",
       "\n",
       "    .dataframe thead th {\n",
       "        text-align: right;\n",
       "    }\n",
       "</style>\n",
       "<table border=\"1\" class=\"dataframe\">\n",
       "  <thead>\n",
       "    <tr style=\"text-align: right;\">\n",
       "      <th></th>\n",
       "      <th>stop_name</th>\n",
       "      <th>stop_lat</th>\n",
       "      <th>stop_lon</th>\n",
       "      <th>route_type</th>\n",
       "      <th>route_short_name</th>\n",
       "      <th>suburb</th>\n",
       "    </tr>\n",
       "  </thead>\n",
       "  <tbody>\n",
       "    <tr>\n",
       "      <th>0</th>\n",
       "      <td>Rex St/Taylors Rd (Kings Park)</td>\n",
       "      <td>-37.726975</td>\n",
       "      <td>144.776152</td>\n",
       "      <td>3</td>\n",
       "      <td>418</td>\n",
       "      <td>Kings Park</td>\n",
       "    </tr>\n",
       "    <tr>\n",
       "      <th>1</th>\n",
       "      <td>Yuille St/Centenary Ave (Melton)</td>\n",
       "      <td>-37.676160</td>\n",
       "      <td>144.595789</td>\n",
       "      <td>3</td>\n",
       "      <td>458</td>\n",
       "      <td>Melton</td>\n",
       "    </tr>\n",
       "    <tr>\n",
       "      <th>2</th>\n",
       "      <td>Yuille St/Centenary Ave (Melton)</td>\n",
       "      <td>-37.676160</td>\n",
       "      <td>144.595789</td>\n",
       "      <td>3</td>\n",
       "      <td>943</td>\n",
       "      <td>Melton</td>\n",
       "    </tr>\n",
       "    <tr>\n",
       "      <th>3</th>\n",
       "      <td>Gum Rd/Main Rd West (Albanvale)</td>\n",
       "      <td>-37.741497</td>\n",
       "      <td>144.775899</td>\n",
       "      <td>3</td>\n",
       "      <td>424</td>\n",
       "      <td>Kings Park</td>\n",
       "    </tr>\n",
       "    <tr>\n",
       "      <th>4</th>\n",
       "      <td>Dole Ave/Cheddar Rd (Reservoir)</td>\n",
       "      <td>-37.700775</td>\n",
       "      <td>145.018951</td>\n",
       "      <td>3</td>\n",
       "      <td>556</td>\n",
       "      <td>Reservoir</td>\n",
       "    </tr>\n",
       "    <tr>\n",
       "      <th>5</th>\n",
       "      <td>Kings Rd/Main Rd West (St Albans)</td>\n",
       "      <td>-37.741946</td>\n",
       "      <td>144.780085</td>\n",
       "      <td>3</td>\n",
       "      <td>424</td>\n",
       "      <td>St Albans</td>\n",
       "    </tr>\n",
       "    <tr>\n",
       "      <th>6</th>\n",
       "      <td>Kings Rd/Main Rd West (St Albans)</td>\n",
       "      <td>-37.741946</td>\n",
       "      <td>144.780085</td>\n",
       "      <td>3</td>\n",
       "      <td>942</td>\n",
       "      <td>St Albans</td>\n",
       "    </tr>\n",
       "    <tr>\n",
       "      <th>7</th>\n",
       "      <td>Moffat St/Main Rd West (St Albans)</td>\n",
       "      <td>-37.742325</td>\n",
       "      <td>144.783467</td>\n",
       "      <td>3</td>\n",
       "      <td>424</td>\n",
       "      <td>St Albans</td>\n",
       "    </tr>\n",
       "    <tr>\n",
       "      <th>8</th>\n",
       "      <td>Washington St/Main Rd West (St Albans)</td>\n",
       "      <td>-37.742796</td>\n",
       "      <td>144.787912</td>\n",
       "      <td>3</td>\n",
       "      <td>424</td>\n",
       "      <td>St Albans</td>\n",
       "    </tr>\n",
       "    <tr>\n",
       "      <th>9</th>\n",
       "      <td>Kate St/Main Rd West (St Albans)</td>\n",
       "      <td>-37.743569</td>\n",
       "      <td>144.794573</td>\n",
       "      <td>3</td>\n",
       "      <td>424</td>\n",
       "      <td>St Albans</td>\n",
       "    </tr>\n",
       "    <tr>\n",
       "      <th>10</th>\n",
       "      <td>Kate St/Main Rd West (St Albans)</td>\n",
       "      <td>-37.743569</td>\n",
       "      <td>144.794573</td>\n",
       "      <td>3</td>\n",
       "      <td>425</td>\n",
       "      <td>St Albans</td>\n",
       "    </tr>\n",
       "    <tr>\n",
       "      <th>11</th>\n",
       "      <td>Raleighs Rd/Centenary Ave (Melton)</td>\n",
       "      <td>-37.675304</td>\n",
       "      <td>144.588776</td>\n",
       "      <td>3</td>\n",
       "      <td>458</td>\n",
       "      <td>Melton</td>\n",
       "    </tr>\n",
       "    <tr>\n",
       "      <th>12</th>\n",
       "      <td>Melton Cemetery/O'Neills Rd (Melton)</td>\n",
       "      <td>-37.674981</td>\n",
       "      <td>144.578254</td>\n",
       "      <td>3</td>\n",
       "      <td>457</td>\n",
       "      <td>Melton</td>\n",
       "    </tr>\n",
       "    <tr>\n",
       "      <th>13</th>\n",
       "      <td>Emil Park/O'Neills Rd (Melton)</td>\n",
       "      <td>-37.678759</td>\n",
       "      <td>144.577508</td>\n",
       "      <td>3</td>\n",
       "      <td>457</td>\n",
       "      <td>Melton</td>\n",
       "    </tr>\n",
       "    <tr>\n",
       "      <th>14</th>\n",
       "      <td>Reservoir Shopping Centre/Broadway (Reservoir)</td>\n",
       "      <td>-37.717121</td>\n",
       "      <td>145.009780</td>\n",
       "      <td>3</td>\n",
       "      <td>556</td>\n",
       "      <td>Reservoir</td>\n",
       "    </tr>\n",
       "    <tr>\n",
       "      <th>15</th>\n",
       "      <td>Reservoir Shopping Centre/Broadway (Reservoir)</td>\n",
       "      <td>-37.717121</td>\n",
       "      <td>145.009780</td>\n",
       "      <td>3</td>\n",
       "      <td>561</td>\n",
       "      <td>Reservoir</td>\n",
       "    </tr>\n",
       "    <tr>\n",
       "      <th>16</th>\n",
       "      <td>Reservoir Shopping Centre/Broadway (Reservoir)</td>\n",
       "      <td>-37.717121</td>\n",
       "      <td>145.009780</td>\n",
       "      <td>3</td>\n",
       "      <td>552</td>\n",
       "      <td>Reservoir</td>\n",
       "    </tr>\n",
       "    <tr>\n",
       "      <th>17</th>\n",
       "      <td>Reservoir Shopping Centre/Broadway (Reservoir)</td>\n",
       "      <td>-37.717121</td>\n",
       "      <td>145.009780</td>\n",
       "      <td>3</td>\n",
       "      <td>555</td>\n",
       "      <td>Reservoir</td>\n",
       "    </tr>\n",
       "    <tr>\n",
       "      <th>18</th>\n",
       "      <td>Northumberland Rd/Pascoe St (Pascoe Vale)</td>\n",
       "      <td>-37.716286</td>\n",
       "      <td>144.934044</td>\n",
       "      <td>3</td>\n",
       "      <td>513</td>\n",
       "      <td>Pascoe Vale</td>\n",
       "    </tr>\n",
       "    <tr>\n",
       "      <th>19</th>\n",
       "      <td>Lloyd Ave/Cheddar Rd (Reservoir)</td>\n",
       "      <td>-37.699183</td>\n",
       "      <td>145.019685</td>\n",
       "      <td>3</td>\n",
       "      <td>556</td>\n",
       "      <td>Reservoir</td>\n",
       "    </tr>\n",
       "    <tr>\n",
       "      <th>20</th>\n",
       "      <td>Westbreen Primary School/Pascoe St (Pascoe Vale)</td>\n",
       "      <td>-37.716553</td>\n",
       "      <td>144.936385</td>\n",
       "      <td>3</td>\n",
       "      <td>513</td>\n",
       "      <td>Pascoe Vale</td>\n",
       "    </tr>\n",
       "    <tr>\n",
       "      <th>21</th>\n",
       "      <td>Joffre Rd/Boundary Rd (Pascoe Vale)</td>\n",
       "      <td>-37.716915</td>\n",
       "      <td>144.940085</td>\n",
       "      <td>3</td>\n",
       "      <td>513</td>\n",
       "      <td>Pascoe Vale</td>\n",
       "    </tr>\n",
       "    <tr>\n",
       "      <th>22</th>\n",
       "      <td>Joffre Rd/Boundary Rd (Pascoe Vale)</td>\n",
       "      <td>-37.716915</td>\n",
       "      <td>144.940085</td>\n",
       "      <td>3</td>\n",
       "      <td>951</td>\n",
       "      <td>Pascoe Vale</td>\n",
       "    </tr>\n",
       "    <tr>\n",
       "      <th>23</th>\n",
       "      <td>Kent Rd/Cumberland Rd (Pascoe Vale)</td>\n",
       "      <td>-37.720711</td>\n",
       "      <td>144.940195</td>\n",
       "      <td>3</td>\n",
       "      <td>513</td>\n",
       "      <td>Pascoe Vale</td>\n",
       "    </tr>\n",
       "    <tr>\n",
       "      <th>24</th>\n",
       "      <td>Warwick Rd/Cumberland Rd (Pascoe Vale)</td>\n",
       "      <td>-37.722203</td>\n",
       "      <td>144.939972</td>\n",
       "      <td>3</td>\n",
       "      <td>513</td>\n",
       "      <td>Pascoe Vale</td>\n",
       "    </tr>\n",
       "    <tr>\n",
       "      <th>25</th>\n",
       "      <td>Daley St/Cumberland Rd (Pascoe Vale)</td>\n",
       "      <td>-37.725015</td>\n",
       "      <td>144.939474</td>\n",
       "      <td>3</td>\n",
       "      <td>513</td>\n",
       "      <td>Pascoe Vale</td>\n",
       "    </tr>\n",
       "    <tr>\n",
       "      <th>26</th>\n",
       "      <td>Pleasant St/Cumberland Rd (Pascoe Vale)</td>\n",
       "      <td>-37.727118</td>\n",
       "      <td>144.939121</td>\n",
       "      <td>3</td>\n",
       "      <td>513</td>\n",
       "      <td>Pascoe Vale</td>\n",
       "    </tr>\n",
       "    <tr>\n",
       "      <th>27</th>\n",
       "      <td>Olive Gr/Cumberland Rd (Pascoe Vale)</td>\n",
       "      <td>-37.729229</td>\n",
       "      <td>144.938768</td>\n",
       "      <td>3</td>\n",
       "      <td>513</td>\n",
       "      <td>Pascoe Vale</td>\n",
       "    </tr>\n",
       "    <tr>\n",
       "      <th>28</th>\n",
       "      <td>Gaffney St/Cumberland Rd (Pascoe Vale)</td>\n",
       "      <td>-37.732165</td>\n",
       "      <td>144.938164</td>\n",
       "      <td>3</td>\n",
       "      <td>513</td>\n",
       "      <td>Pascoe Vale</td>\n",
       "    </tr>\n",
       "    <tr>\n",
       "      <th>29</th>\n",
       "      <td>Pardy St/Cumberland Rd (Pascoe Vale)</td>\n",
       "      <td>-37.733929</td>\n",
       "      <td>144.937979</td>\n",
       "      <td>3</td>\n",
       "      <td>513</td>\n",
       "      <td>Pascoe Vale</td>\n",
       "    </tr>\n",
       "    <tr>\n",
       "      <th>30</th>\n",
       "      <td>Liston Ave/Cheddar Rd (Reservoir)</td>\n",
       "      <td>-37.697448</td>\n",
       "      <td>145.021002</td>\n",
       "      <td>3</td>\n",
       "      <td>556</td>\n",
       "      <td>Reservoir</td>\n",
       "    </tr>\n",
       "    <tr>\n",
       "      <th>31</th>\n",
       "      <td>Eastgate St/Cumberland Rd (Pascoe Vale South)</td>\n",
       "      <td>-37.735500</td>\n",
       "      <td>144.937675</td>\n",
       "      <td>3</td>\n",
       "      <td>513</td>\n",
       "      <td>Pascoe Vale South</td>\n",
       "    </tr>\n",
       "    <tr>\n",
       "      <th>32</th>\n",
       "      <td>Bell St/Cumberland Rd (Pascoe Vale South)</td>\n",
       "      <td>-37.737611</td>\n",
       "      <td>144.937298</td>\n",
       "      <td>3</td>\n",
       "      <td>513</td>\n",
       "      <td>Pascoe Vale South</td>\n",
       "    </tr>\n",
       "    <tr>\n",
       "      <th>33</th>\n",
       "      <td>Balmoral Ave/Bell St (Pascoe Vale South)</td>\n",
       "      <td>-37.738792</td>\n",
       "      <td>144.941952</td>\n",
       "      <td>3</td>\n",
       "      <td>903</td>\n",
       "      <td>Pascoe Vale South</td>\n",
       "    </tr>\n",
       "    <tr>\n",
       "      <th>34</th>\n",
       "      <td>Balmoral Ave/Bell St (Pascoe Vale South)</td>\n",
       "      <td>-37.738792</td>\n",
       "      <td>144.941952</td>\n",
       "      <td>3</td>\n",
       "      <td>513</td>\n",
       "      <td>Pascoe Vale South</td>\n",
       "    </tr>\n",
       "    <tr>\n",
       "      <th>35</th>\n",
       "      <td>Royal Pde/Bell St (Pascoe Vale South)</td>\n",
       "      <td>-37.739404</td>\n",
       "      <td>144.947053</td>\n",
       "      <td>3</td>\n",
       "      <td>903</td>\n",
       "      <td>Pascoe Vale South</td>\n",
       "    </tr>\n",
       "    <tr>\n",
       "      <th>36</th>\n",
       "      <td>Royal Pde/Bell St (Pascoe Vale South)</td>\n",
       "      <td>-37.739404</td>\n",
       "      <td>144.947053</td>\n",
       "      <td>3</td>\n",
       "      <td>513</td>\n",
       "      <td>Pascoe Vale South</td>\n",
       "    </tr>\n",
       "    <tr>\n",
       "      <th>37</th>\n",
       "      <td>Davis St/Bell St (Coburg)</td>\n",
       "      <td>-37.739793</td>\n",
       "      <td>144.950776</td>\n",
       "      <td>3</td>\n",
       "      <td>903</td>\n",
       "      <td>Coburg</td>\n",
       "    </tr>\n",
       "    <tr>\n",
       "      <th>38</th>\n",
       "      <td>Davis St/Bell St (Coburg)</td>\n",
       "      <td>-37.739793</td>\n",
       "      <td>144.950776</td>\n",
       "      <td>3</td>\n",
       "      <td>561</td>\n",
       "      <td>Coburg</td>\n",
       "    </tr>\n",
       "    <tr>\n",
       "      <th>39</th>\n",
       "      <td>Davis St/Bell St (Coburg)</td>\n",
       "      <td>-37.739793</td>\n",
       "      <td>144.950776</td>\n",
       "      <td>3</td>\n",
       "      <td>513</td>\n",
       "      <td>Coburg</td>\n",
       "    </tr>\n",
       "  </tbody>\n",
       "</table>\n",
       "</div>"
      ],
      "text/plain": [
       "                                           stop_name   stop_lat    stop_lon  \\\n",
       "0                     Rex St/Taylors Rd (Kings Park) -37.726975  144.776152   \n",
       "1                   Yuille St/Centenary Ave (Melton) -37.676160  144.595789   \n",
       "2                   Yuille St/Centenary Ave (Melton) -37.676160  144.595789   \n",
       "3                    Gum Rd/Main Rd West (Albanvale) -37.741497  144.775899   \n",
       "4                    Dole Ave/Cheddar Rd (Reservoir) -37.700775  145.018951   \n",
       "5                  Kings Rd/Main Rd West (St Albans) -37.741946  144.780085   \n",
       "6                  Kings Rd/Main Rd West (St Albans) -37.741946  144.780085   \n",
       "7                 Moffat St/Main Rd West (St Albans) -37.742325  144.783467   \n",
       "8             Washington St/Main Rd West (St Albans) -37.742796  144.787912   \n",
       "9                   Kate St/Main Rd West (St Albans) -37.743569  144.794573   \n",
       "10                  Kate St/Main Rd West (St Albans) -37.743569  144.794573   \n",
       "11                Raleighs Rd/Centenary Ave (Melton) -37.675304  144.588776   \n",
       "12              Melton Cemetery/O'Neills Rd (Melton) -37.674981  144.578254   \n",
       "13                    Emil Park/O'Neills Rd (Melton) -37.678759  144.577508   \n",
       "14    Reservoir Shopping Centre/Broadway (Reservoir) -37.717121  145.009780   \n",
       "15    Reservoir Shopping Centre/Broadway (Reservoir) -37.717121  145.009780   \n",
       "16    Reservoir Shopping Centre/Broadway (Reservoir) -37.717121  145.009780   \n",
       "17    Reservoir Shopping Centre/Broadway (Reservoir) -37.717121  145.009780   \n",
       "18         Northumberland Rd/Pascoe St (Pascoe Vale) -37.716286  144.934044   \n",
       "19                  Lloyd Ave/Cheddar Rd (Reservoir) -37.699183  145.019685   \n",
       "20  Westbreen Primary School/Pascoe St (Pascoe Vale) -37.716553  144.936385   \n",
       "21               Joffre Rd/Boundary Rd (Pascoe Vale) -37.716915  144.940085   \n",
       "22               Joffre Rd/Boundary Rd (Pascoe Vale) -37.716915  144.940085   \n",
       "23               Kent Rd/Cumberland Rd (Pascoe Vale) -37.720711  144.940195   \n",
       "24            Warwick Rd/Cumberland Rd (Pascoe Vale) -37.722203  144.939972   \n",
       "25              Daley St/Cumberland Rd (Pascoe Vale) -37.725015  144.939474   \n",
       "26           Pleasant St/Cumberland Rd (Pascoe Vale) -37.727118  144.939121   \n",
       "27              Olive Gr/Cumberland Rd (Pascoe Vale) -37.729229  144.938768   \n",
       "28            Gaffney St/Cumberland Rd (Pascoe Vale) -37.732165  144.938164   \n",
       "29              Pardy St/Cumberland Rd (Pascoe Vale) -37.733929  144.937979   \n",
       "30                 Liston Ave/Cheddar Rd (Reservoir) -37.697448  145.021002   \n",
       "31     Eastgate St/Cumberland Rd (Pascoe Vale South) -37.735500  144.937675   \n",
       "32         Bell St/Cumberland Rd (Pascoe Vale South) -37.737611  144.937298   \n",
       "33          Balmoral Ave/Bell St (Pascoe Vale South) -37.738792  144.941952   \n",
       "34          Balmoral Ave/Bell St (Pascoe Vale South) -37.738792  144.941952   \n",
       "35             Royal Pde/Bell St (Pascoe Vale South) -37.739404  144.947053   \n",
       "36             Royal Pde/Bell St (Pascoe Vale South) -37.739404  144.947053   \n",
       "37                         Davis St/Bell St (Coburg) -37.739793  144.950776   \n",
       "38                         Davis St/Bell St (Coburg) -37.739793  144.950776   \n",
       "39                         Davis St/Bell St (Coburg) -37.739793  144.950776   \n",
       "\n",
       "    route_type route_short_name             suburb  \n",
       "0            3              418         Kings Park  \n",
       "1            3              458             Melton  \n",
       "2            3              943             Melton  \n",
       "3            3              424         Kings Park  \n",
       "4            3              556          Reservoir  \n",
       "5            3              424          St Albans  \n",
       "6            3              942          St Albans  \n",
       "7            3              424          St Albans  \n",
       "8            3              424          St Albans  \n",
       "9            3              424          St Albans  \n",
       "10           3              425          St Albans  \n",
       "11           3              458             Melton  \n",
       "12           3              457             Melton  \n",
       "13           3              457             Melton  \n",
       "14           3              556          Reservoir  \n",
       "15           3              561          Reservoir  \n",
       "16           3              552          Reservoir  \n",
       "17           3              555          Reservoir  \n",
       "18           3              513        Pascoe Vale  \n",
       "19           3              556          Reservoir  \n",
       "20           3              513        Pascoe Vale  \n",
       "21           3              513        Pascoe Vale  \n",
       "22           3              951        Pascoe Vale  \n",
       "23           3              513        Pascoe Vale  \n",
       "24           3              513        Pascoe Vale  \n",
       "25           3              513        Pascoe Vale  \n",
       "26           3              513        Pascoe Vale  \n",
       "27           3              513        Pascoe Vale  \n",
       "28           3              513        Pascoe Vale  \n",
       "29           3              513        Pascoe Vale  \n",
       "30           3              556          Reservoir  \n",
       "31           3              513  Pascoe Vale South  \n",
       "32           3              513  Pascoe Vale South  \n",
       "33           3              903  Pascoe Vale South  \n",
       "34           3              513  Pascoe Vale South  \n",
       "35           3              903  Pascoe Vale South  \n",
       "36           3              513  Pascoe Vale South  \n",
       "37           3              903             Coburg  \n",
       "38           3              561             Coburg  \n",
       "39           3              513             Coburg  "
      ]
     },
     "execution_count": 87,
     "metadata": {},
     "output_type": "execute_result"
    }
   ],
   "source": [
    "PTV_df.head(40)"
   ]
  },
  {
   "cell_type": "code",
   "execution_count": 78,
   "metadata": {},
   "outputs": [],
   "source": [
    "# train stations\n",
    "train_st = PTV_df[PTV_df['route_type'] == 2]\n"
   ]
  },
  {
   "cell_type": "code",
   "execution_count": 79,
   "metadata": {},
   "outputs": [],
   "source": [
    "T_st_points = list(zip(train_st.stop_lat,train_st.stop_lon))"
   ]
  },
  {
   "cell_type": "code",
   "execution_count": 80,
   "metadata": {},
   "outputs": [
    {
     "data": {
      "text/plain": [
       "[(-37.579090970578704, 144.727318781329),\n",
       " (-37.627016514935704, 144.719922441113),\n",
       " (-38.3742345364937, 145.221837462187),\n",
       " (-38.3661233827862, 145.204043321601),\n",
       " (-38.35403333658439, 145.189602487712),\n",
       " (-38.3373903202406, 145.178026527511),\n",
       " (-38.3056585273722, 145.185979882012),\n",
       " (-38.2598150046916, 145.186400708984),\n",
       " (-38.2253419593114, 145.17624491889998),\n",
       " (-38.1940430573051, 145.16052608761498)]"
      ]
     },
     "execution_count": 80,
     "metadata": {},
     "output_type": "execute_result"
    }
   ],
   "source": [
    "T_st_points[:10]"
   ]
  },
  {
   "cell_type": "code",
   "execution_count": 81,
   "metadata": {},
   "outputs": [],
   "source": [
    "import folium"
   ]
  },
  {
   "cell_type": "code",
   "execution_count": 82,
   "metadata": {},
   "outputs": [],
   "source": [
    "m = folium.Map(\n",
    "    location=[-37.811101, 144.957226],\n",
    "    tiles='Stamen Toner',\n",
    "    zoom_start=10)\n",
    "\n",
    "\n",
    "\n"
   ]
  },
  {
   "cell_type": "code",
   "execution_count": 83,
   "metadata": {},
   "outputs": [],
   "source": [
    "for p in T_st_points:\n",
    "    folium.Marker(\n",
    "        location=p,\n",
    "        #popup=',\n",
    "        icon=folium.Icon(icon='train',prefix = 'fa')\n",
    "    ).add_to(m)"
   ]
  },
  {
   "cell_type": "code",
   "execution_count": 84,
   "metadata": {},
   "outputs": [
    {
     "data": {
      "text/html": [
       "<div style=\"width:100%;\"><div style=\"position:relative;width:100%;height:0;padding-bottom:60%;\"><iframe src=\"data:text/html;charset=utf-8;base64,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\" style=\"position:absolute;width:100%;height:100%;left:0;top:0;border:none !important;\" allowfullscreen webkitallowfullscreen mozallowfullscreen></iframe></div></div>"
      ],
      "text/plain": [
       "<folium.folium.Map at 0x11e6c4208>"
      ]
     },
     "execution_count": 84,
     "metadata": {},
     "output_type": "execute_result"
    }
   ],
   "source": [
    "m"
   ]
  },
  {
   "cell_type": "code",
   "execution_count": 85,
   "metadata": {},
   "outputs": [],
   "source": [
    "PTV_df.to_csv('transport.csv',index = False)"
   ]
  },
  {
   "cell_type": "code",
   "execution_count": 86,
   "metadata": {},
   "outputs": [
    {
     "name": "stdout",
     "output_type": "stream",
     "text": [
      "Help on class Marker in module folium.map:\n",
      "\n",
      "class Marker(branca.element.MacroElement)\n",
      " |  Marker(location, popup=None, tooltip=None, icon=None, draggable=False)\n",
      " |  \n",
      " |  Create a simple stock Leaflet marker on the map, with optional\n",
      " |  popup text or Vincent visualization.\n",
      " |  \n",
      " |  Parameters\n",
      " |  ----------\n",
      " |  location: tuple or list, default None\n",
      " |      Latitude and Longitude of Marker (Northing, Easting)\n",
      " |  popup: string or folium.Popup, default None\n",
      " |      Label for the Marker; either an escaped HTML string to initialize\n",
      " |      folium.Popup or a folium.Popup instance.\n",
      " |  tooltip: str or folium.Tooltip, default None\n",
      " |      Display a text when hovering over the object.\n",
      " |  icon: Icon plugin\n",
      " |      the Icon plugin to use to render the marker.\n",
      " |  draggable: bool, default False\n",
      " |      Set to True to be able to drag the marker around the map.\n",
      " |  \n",
      " |  Returns\n",
      " |  -------\n",
      " |  Marker names and HTML in obj.template_vars\n",
      " |  \n",
      " |  Examples\n",
      " |  --------\n",
      " |  >>> Marker(location=[45.5, -122.3], popup='Portland, OR')\n",
      " |  >>> Marker(location=[45.5, -122.3], popup=folium.Popup('Portland, OR'))\n",
      " |  # If the popup label has characters that need to be escaped in HTML\n",
      " |  >>> Marker(location=[45.5, -122.3],\n",
      " |             popup=folium.Popup('Mom & Pop Arrow Shop >>', parse_html=True))\n",
      " |  \n",
      " |  Method resolution order:\n",
      " |      Marker\n",
      " |      branca.element.MacroElement\n",
      " |      branca.element.Element\n",
      " |      builtins.object\n",
      " |  \n",
      " |  Methods defined here:\n",
      " |  \n",
      " |  __init__(self, location, popup=None, tooltip=None, icon=None, draggable=False)\n",
      " |      Initialize self.  See help(type(self)) for accurate signature.\n",
      " |  \n",
      " |  ----------------------------------------------------------------------\n",
      " |  Methods inherited from branca.element.MacroElement:\n",
      " |  \n",
      " |  render(self, **kwargs)\n",
      " |      Renders the HTML representation of the element.\n",
      " |  \n",
      " |  ----------------------------------------------------------------------\n",
      " |  Methods inherited from branca.element.Element:\n",
      " |  \n",
      " |  add_child(self, child, name=None, index=None)\n",
      " |      Add a child.\n",
      " |  \n",
      " |  add_children(self, child, name=None, index=None)\n",
      " |      Add a child.\n",
      " |  \n",
      " |  add_to(self, parent, name=None, index=None)\n",
      " |      Add element to a parent.\n",
      " |  \n",
      " |  get_bounds(self)\n",
      " |      Computes the bounds of the object and all it's children\n",
      " |      in the form [[lat_min, lon_min], [lat_max, lon_max]].\n",
      " |  \n",
      " |  get_name(self)\n",
      " |      Returns a string representation of the object.\n",
      " |      This string has to be unique and to be a python and\n",
      " |      javascript-compatible\n",
      " |      variable name.\n",
      " |  \n",
      " |  get_root(self)\n",
      " |      Returns the root of the elements tree.\n",
      " |  \n",
      " |  save(self, outfile, close_file=True, **kwargs)\n",
      " |      Saves an Element into a file.\n",
      " |      \n",
      " |      Parameters\n",
      " |      ----------\n",
      " |      outfile : str or file object\n",
      " |          The file (or filename) where you want to output the html.\n",
      " |      close_file : bool, default True\n",
      " |          Whether the file has to be closed after write.\n",
      " |  \n",
      " |  to_dict(self, depth=-1, ordered=True, **kwargs)\n",
      " |      Returns a dict representation of the object.\n",
      " |  \n",
      " |  to_json(self, depth=-1, **kwargs)\n",
      " |      Returns a JSON representation of the object.\n",
      " |  \n",
      " |  ----------------------------------------------------------------------\n",
      " |  Data descriptors inherited from branca.element.Element:\n",
      " |  \n",
      " |  __dict__\n",
      " |      dictionary for instance variables (if defined)\n",
      " |  \n",
      " |  __weakref__\n",
      " |      list of weak references to the object (if defined)\n",
      "\n"
     ]
    }
   ],
   "source": [
    "help(folium.Marker)"
   ]
  },
  {
   "cell_type": "code",
   "execution_count": null,
   "metadata": {},
   "outputs": [],
   "source": []
  }
 ],
 "metadata": {
  "kernelspec": {
   "display_name": "Python 3",
   "language": "python",
   "name": "python3"
  },
  "language_info": {
   "codemirror_mode": {
    "name": "ipython",
    "version": 3
   },
   "file_extension": ".py",
   "mimetype": "text/x-python",
   "name": "python",
   "nbconvert_exporter": "python",
   "pygments_lexer": "ipython3",
   "version": "3.7.2"
  }
 },
 "nbformat": 4,
 "nbformat_minor": 2
}
